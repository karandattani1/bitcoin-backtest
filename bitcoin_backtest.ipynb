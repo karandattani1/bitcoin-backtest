{
 "cells": [
  {
   "cell_type": "markdown",
   "metadata": {},
   "source": [
    "# Bitcoin Momentum Backtest\n",
    "Simple moving-average crossover demo.\n"
   ]
  },
  {
   "cell_type": "code",
   "metadata": {},
   "source": [
    "import pandas as pd\n",
    "\n",
    "# Load data\n",
    "df = pd.read_csv('data/BTC-USD.csv')\n",
    "\n",
    "# Simple 2-day moving average just for structure\n",
    "df['MA'] = df['Close'].rolling(2).mean()\n",
    "df['Signal'] = (df['Close'] > df['MA']).astype(int)\n",
    "\n",
    "# Compute returns\n",
    "df['Return'] = df['Close'].pct_change()\n",
    "df['Strategy'] = df['Signal'].shift(1) * df['Return']\n",
    "\n",
    "print(df.tail())"
   ]
  }
 ],
 "metadata": {},
 "nbformat": 4,
 "nbformat_minor": 2
}
